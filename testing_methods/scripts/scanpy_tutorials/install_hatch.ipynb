{
 "cells": [
  {
   "cell_type": "markdown",
   "id": "3ec9423b",
   "metadata": {},
   "source": [
    "# Installing Hatch\n",
    "\n",
    " Hatch is a modern, extensible project manager for building, packaging, and managing Python environments.  It focuses on Python packaging, isolated virtual environments, and reproducible builds."
   ]
  },
  {
   "cell_type": "code",
   "execution_count": 2,
   "id": "035225cc",
   "metadata": {},
   "outputs": [
    {
     "name": "stderr",
     "output_type": "stream",
     "text": [
      "60.09s - pydevd: Sending message related to process being replaced timed-out after 5 seconds\n"
     ]
    },
    {
     "name": "stdout",
     "output_type": "stream",
     "text": [
      "Collecting hatch\n",
      "  Downloading hatch-1.14.1-py3-none-any.whl.metadata (5.6 kB)\n",
      "Collecting click>=8.0.6 (from hatch)\n",
      "  Downloading click-8.2.1-py3-none-any.whl.metadata (2.5 kB)\n",
      "Collecting hatchling>=1.26.3 (from hatch)\n",
      "  Downloading hatchling-1.27.0-py3-none-any.whl.metadata (3.8 kB)\n",
      "Requirement already satisfied: httpx>=0.22.0 in /Users/sshen4/miniconda3/lib/python3.13/site-packages (from hatch) (0.28.1)\n",
      "Collecting hyperlink>=21.0.0 (from hatch)\n",
      "  Downloading hyperlink-21.0.0-py2.py3-none-any.whl.metadata (1.5 kB)\n",
      "Collecting keyring>=23.5.0 (from hatch)\n",
      "  Downloading keyring-25.6.0-py3-none-any.whl.metadata (20 kB)\n",
      "Requirement already satisfied: packaging>=23.2 in /Users/sshen4/miniconda3/lib/python3.13/site-packages (from hatch) (24.2)\n",
      "Requirement already satisfied: pexpect~=4.8 in /Users/sshen4/miniconda3/lib/python3.13/site-packages (from hatch) (4.9.0)\n",
      "Requirement already satisfied: platformdirs>=2.5.0 in /Users/sshen4/miniconda3/lib/python3.13/site-packages (from hatch) (4.3.7)\n",
      "Requirement already satisfied: rich>=11.2.0 in /Users/sshen4/miniconda3/lib/python3.13/site-packages (from hatch) (13.9.4)\n",
      "Collecting shellingham>=1.4.0 (from hatch)\n",
      "  Downloading shellingham-1.5.4-py2.py3-none-any.whl.metadata (3.5 kB)\n",
      "Collecting tomli-w>=1.0 (from hatch)\n",
      "  Downloading tomli_w-1.2.0-py3-none-any.whl.metadata (5.7 kB)\n",
      "Collecting tomlkit>=0.11.1 (from hatch)\n",
      "  Downloading tomlkit-0.13.3-py3-none-any.whl.metadata (2.8 kB)\n",
      "Collecting userpath~=1.7 (from hatch)\n",
      "  Downloading userpath-1.9.2-py3-none-any.whl.metadata (3.0 kB)\n",
      "Collecting uv>=0.5.23 (from hatch)\n",
      "  Downloading uv-0.8.2-py3-none-macosx_11_0_arm64.whl.metadata (11 kB)\n",
      "Collecting virtualenv>=20.26.6 (from hatch)\n",
      "  Downloading virtualenv-20.32.0-py3-none-any.whl.metadata (4.5 kB)\n",
      "Requirement already satisfied: zstandard<1 in /Users/sshen4/miniconda3/lib/python3.13/site-packages (from hatch) (0.23.0)\n",
      "Requirement already satisfied: ptyprocess>=0.5 in /Users/sshen4/miniconda3/lib/python3.13/site-packages (from pexpect~=4.8->hatch) (0.7.0)\n",
      "Collecting pathspec>=0.10.1 (from hatchling>=1.26.3->hatch)\n",
      "  Downloading pathspec-0.12.1-py3-none-any.whl.metadata (21 kB)\n",
      "Requirement already satisfied: pluggy>=1.0.0 in /Users/sshen4/miniconda3/lib/python3.13/site-packages (from hatchling>=1.26.3->hatch) (1.5.0)\n",
      "Collecting trove-classifiers (from hatchling>=1.26.3->hatch)\n",
      "  Downloading trove_classifiers-2025.5.9.12-py3-none-any.whl.metadata (2.3 kB)\n",
      "Requirement already satisfied: anyio in /Users/sshen4/miniconda3/lib/python3.13/site-packages (from httpx>=0.22.0->hatch) (4.9.0)\n",
      "Requirement already satisfied: certifi in /Users/sshen4/miniconda3/lib/python3.13/site-packages (from httpx>=0.22.0->hatch) (2025.4.26)\n",
      "Requirement already satisfied: httpcore==1.* in /Users/sshen4/miniconda3/lib/python3.13/site-packages (from httpx>=0.22.0->hatch) (1.0.9)\n",
      "Requirement already satisfied: idna in /Users/sshen4/miniconda3/lib/python3.13/site-packages (from httpx>=0.22.0->hatch) (3.7)\n",
      "Requirement already satisfied: h11>=0.16 in /Users/sshen4/miniconda3/lib/python3.13/site-packages (from httpcore==1.*->httpx>=0.22.0->hatch) (0.16.0)\n",
      "Collecting jaraco.classes (from keyring>=23.5.0->hatch)\n",
      "  Downloading jaraco.classes-3.4.0-py3-none-any.whl.metadata (2.6 kB)\n",
      "Collecting jaraco.functools (from keyring>=23.5.0->hatch)\n",
      "  Downloading jaraco_functools-4.2.1-py3-none-any.whl.metadata (2.9 kB)\n",
      "Collecting jaraco.context (from keyring>=23.5.0->hatch)\n",
      "  Downloading jaraco.context-6.0.1-py3-none-any.whl.metadata (4.1 kB)\n",
      "Requirement already satisfied: markdown-it-py>=2.2.0 in /Users/sshen4/miniconda3/lib/python3.13/site-packages (from rich>=11.2.0->hatch) (2.2.0)\n",
      "Requirement already satisfied: pygments<3.0.0,>=2.13.0 in /Users/sshen4/miniconda3/lib/python3.13/site-packages (from rich>=11.2.0->hatch) (2.19.1)\n",
      "Requirement already satisfied: mdurl~=0.1 in /Users/sshen4/miniconda3/lib/python3.13/site-packages (from markdown-it-py>=2.2.0->rich>=11.2.0->hatch) (0.1.0)\n",
      "Collecting distlib<1,>=0.3.7 (from virtualenv>=20.26.6->hatch)\n",
      "  Downloading distlib-0.4.0-py2.py3-none-any.whl.metadata (5.2 kB)\n",
      "Collecting filelock<4,>=3.12.2 (from virtualenv>=20.26.6->hatch)\n",
      "  Downloading filelock-3.18.0-py3-none-any.whl.metadata (2.9 kB)\n",
      "Requirement already satisfied: sniffio>=1.1 in /Users/sshen4/miniconda3/lib/python3.13/site-packages (from anyio->httpx>=0.22.0->hatch) (1.3.1)\n",
      "Collecting more-itertools (from jaraco.classes->keyring>=23.5.0->hatch)\n",
      "  Downloading more_itertools-10.7.0-py3-none-any.whl.metadata (37 kB)\n",
      "Downloading hatch-1.14.1-py3-none-any.whl (125 kB)\n",
      "Downloading userpath-1.9.2-py3-none-any.whl (9.1 kB)\n",
      "Downloading click-8.2.1-py3-none-any.whl (102 kB)\n",
      "Downloading hatchling-1.27.0-py3-none-any.whl (75 kB)\n",
      "Downloading hyperlink-21.0.0-py2.py3-none-any.whl (74 kB)\n",
      "Downloading keyring-25.6.0-py3-none-any.whl (39 kB)\n",
      "Downloading pathspec-0.12.1-py3-none-any.whl (31 kB)\n",
      "Downloading shellingham-1.5.4-py2.py3-none-any.whl (9.8 kB)\n",
      "Downloading tomli_w-1.2.0-py3-none-any.whl (6.7 kB)\n",
      "Downloading tomlkit-0.13.3-py3-none-any.whl (38 kB)\n",
      "Downloading uv-0.8.2-py3-none-macosx_11_0_arm64.whl (16.7 MB)\n",
      "\u001b[2K   \u001b[90m━━━━━━━━━━━━━━━━━━━━━━━━━━━━━━━━━━━━━━━━\u001b[0m \u001b[32m16.7/16.7 MB\u001b[0m \u001b[31m43.0 MB/s\u001b[0m eta \u001b[36m0:00:00\u001b[0m \u001b[36m0:00:01\u001b[0m\n",
      "\u001b[?25hDownloading virtualenv-20.32.0-py3-none-any.whl (6.1 MB)\n",
      "\u001b[2K   \u001b[90m━━━━━━━━━━━━━━━━━━━━━━━━━━━━━━━━━━━━━━━━\u001b[0m \u001b[32m6.1/6.1 MB\u001b[0m \u001b[31m42.3 MB/s\u001b[0m eta \u001b[36m0:00:00\u001b[0m\n",
      "\u001b[?25hDownloading distlib-0.4.0-py2.py3-none-any.whl (469 kB)\n",
      "Downloading filelock-3.18.0-py3-none-any.whl (16 kB)\n",
      "Downloading jaraco.classes-3.4.0-py3-none-any.whl (6.8 kB)\n",
      "Downloading jaraco.context-6.0.1-py3-none-any.whl (6.8 kB)\n",
      "Downloading jaraco_functools-4.2.1-py3-none-any.whl (10 kB)\n",
      "Downloading more_itertools-10.7.0-py3-none-any.whl (65 kB)\n",
      "Downloading trove_classifiers-2025.5.9.12-py3-none-any.whl (14 kB)\n",
      "Installing collected packages: trove-classifiers, distlib, uv, tomlkit, tomli-w, shellingham, pathspec, more-itertools, jaraco.context, hyperlink, filelock, click, virtualenv, userpath, jaraco.functools, jaraco.classes, hatchling, keyring, hatch\n",
      "\u001b[2K   \u001b[90m━━━━━━━━━━━━━━━━━━━━━━━━━━━━━━━━━━━━━━━━\u001b[0m \u001b[32m19/19\u001b[0m [hatch]m18/19\u001b[0m [hatch]g]g]]\n",
      "\u001b[1A\u001b[2KSuccessfully installed click-8.2.1 distlib-0.4.0 filelock-3.18.0 hatch-1.14.1 hatchling-1.27.0 hyperlink-21.0.0 jaraco.classes-3.4.0 jaraco.context-6.0.1 jaraco.functools-4.2.1 keyring-25.6.0 more-itertools-10.7.0 pathspec-0.12.1 shellingham-1.5.4 tomli-w-1.2.0 tomlkit-0.13.3 trove-classifiers-2025.5.9.12 userpath-1.9.2 uv-0.8.2 virtualenv-20.32.0\n"
     ]
    }
   ],
   "source": [
    "# Install Hatch\n",
    "\n",
    "%pip install hatch"
   ]
  },
  {
   "cell_type": "code",
   "execution_count": 7,
   "id": "8bd535fc",
   "metadata": {},
   "outputs": [
    {
     "name": "stdout",
     "output_type": "stream",
     "text": [
      "Hatch, version 1.14.1\n",
      "     Standalone      \n",
      "┏━━━━━━━━━┳━━━━━━━━━┓\n",
      "┃\u001b[1m \u001b[0m\u001b[1mName   \u001b[0m\u001b[1m \u001b[0m┃\u001b[1m \u001b[0m\u001b[1mType   \u001b[0m\u001b[1m \u001b[0m┃\n",
      "┡━━━━━━━━━╇━━━━━━━━━┩\n",
      "│\u001b[1m \u001b[0m\u001b[1mdefault\u001b[0m\u001b[1m \u001b[0m│\u001b[1m \u001b[0m\u001b[1mvirtual\u001b[0m\u001b[1m \u001b[0m│\n",
      "└─────────┴─────────┘\n"
     ]
    }
   ],
   "source": [
    "%%bash\n",
    "hatch --version\n",
    "hatch env show"
   ]
  },
  {
   "cell_type": "code",
   "execution_count": 3,
   "id": "8aa7d81e",
   "metadata": {},
   "outputs": [
    {
     "name": "stdout",
     "output_type": "stream",
     "text": [
      "/Users/sshen4/miniconda3/bin/hatch\n",
      "/Users/sshen4/miniconda3/bin/python\n"
     ]
    }
   ],
   "source": [
    "%%bash\n",
    "which hatch\n",
    "which python"
   ]
  }
 ],
 "metadata": {
  "kernelspec": {
   "display_name": "base",
   "language": "python",
   "name": "python3"
  },
  "language_info": {
   "codemirror_mode": {
    "name": "ipython",
    "version": 3
   },
   "file_extension": ".py",
   "mimetype": "text/x-python",
   "name": "python",
   "nbconvert_exporter": "python",
   "pygments_lexer": "ipython3",
   "version": "3.13.5"
  }
 },
 "nbformat": 4,
 "nbformat_minor": 5
}
