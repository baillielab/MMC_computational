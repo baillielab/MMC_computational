{
 "cells": [
  {
   "cell_type": "markdown",
   "id": "cfb94526",
   "metadata": {},
   "source": [
    "# Preprocessing and clustering tutorial on scanpy"
   ]
  },
  {
   "cell_type": "code",
   "execution_count": null,
   "id": "5959fd2a",
   "metadata": {},
   "outputs": [],
   "source": [
    "import scanpy as sc\n"
   ]
  }
 ],
 "metadata": {
  "kernelspec": {
   "display_name": "base",
   "language": "python",
   "name": "python3"
  },
  "language_info": {
   "name": "python",
   "version": "3.13.5"
  }
 },
 "nbformat": 4,
 "nbformat_minor": 5
}
